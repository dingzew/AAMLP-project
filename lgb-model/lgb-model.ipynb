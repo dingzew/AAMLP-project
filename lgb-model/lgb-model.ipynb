{
 "cells": [
  {
   "cell_type": "code",
   "execution_count": 1,
   "metadata": {},
   "outputs": [],
   "source": [
    "import pandas as pd\n",
    "import numpy as np\n",
    "import nltk\n",
    "import multiprocessing\n",
    "import difflib\n",
    "import time\n",
    "import pickle\n",
    "import gc\n",
    "import os\n",
    "import lightgbm as lgb\n",
    "import matplotlib.pyplot as plt\n",
    "%matplotlib inline\n",
    "\n",
    "from sklearn.model_selection import train_test_split, StratifiedKFold\n",
    "from collections import Counter\n",
    "from sklearn.metrics import log_loss\n",
    "from scipy.optimize import minimize"
   ]
  },
  {
   "cell_type": "code",
   "execution_count": 2,
   "metadata": {},
   "outputs": [],
   "source": [
    "# There is an implement bug in the data preprocessing phase, row 400000 is repeated onece\n",
    "dataset = 'wiki'\n",
    "\n",
    "data1 = pd.read_csv('../{0}/{0}1-features-lgb.csv'.format(dataset))\n",
    "data2 = pd.read_csv('../{0}/{0}2-features-lgb.csv'.format(dataset))\n",
    "data = pd.concat([data1, data2], axis=0)\n",
    "data.drop_duplicates(inplace=True)\n",
    "data.reset_index(drop=True, inplace=True)\n",
    "del data1, data2; gc.collect()\n",
    "\n",
    "# Sum of two vectors and root square difference\n",
    "w2v_q11 = pickle.load(open('../{0}/{0}1-q1_w2v.pkl'.format(dataset), 'rb'))\n",
    "w2v_q12 = pickle.load(open('../{0}/{0}2-q1_w2v.pkl'.format(dataset), 'rb'))\n",
    "w2v_q1 = np.concatenate([w2v_q11,w2v_q12], axis=0)\n",
    "del w2v_q11, w2v_q12; gc.collect()\n",
    "\n",
    "w2v_q21 = pickle.load(open('../{0}/{0}1-q2_w2v.pkl'.format(dataset), 'rb'))\n",
    "w2v_q22 = pickle.load(open('../{0}/{0}2-q2_w2v.pkl'.format(dataset), 'rb'))\n",
    "w2v_q2 = np.concatenate([w2v_q21,w2v_q22], axis=0)\n",
    "del w2v_q21, w2v_q22; gc.collect()\n",
    "\n",
    "w2v_features = np.concatenate([(w2v_q1+w2v_q2), np.sqrt((w2v_q1-w2v_q2)**2)], axis=1)\n",
    "w2v_features = np.delete(w2v_features, (400000), axis=0)\n",
    "w2v_columns = ['add_w2v_'.format(i) for i in range(300)] + ['diff_w2v_'.format(i) for i in range(300)]\n",
    "del w2v_q1, w2v_q2; gc.collect()\n",
    "\n",
    "# Graph features\n",
    "non_nlp_features = pd.read_csv('../' + dataset +  '/non_nlp_features_train.csv')"
   ]
  },
  {
   "cell_type": "code",
   "execution_count": 5,
   "metadata": {},
   "outputs": [
    {
     "data": {
      "text/plain": [
       "0"
      ]
     },
     "execution_count": 5,
     "metadata": {},
     "output_type": "execute_result"
    }
   ],
   "source": [
    "# Split 10% out as testset\n",
    "data, data_test = train_test_split(data, test_size=0.1, random_state=15)\n",
    "w2v_features, w2v_features_test = train_test_split(w2v_features, test_size=0.1, random_state=15)\n",
    "non_nlp_features, non_nlp_features_test = train_test_split(non_nlp_features, test_size=0.1, random_state=15)\n",
    "\n",
    "labels = data['is_duplicate']\n",
    "data.drop(['id','is_duplicate','question1','question2'], axis=1, inplace=True)\n",
    "\n",
    "ids_test= data_test['id'].values\n",
    "data_test.drop(['id','is_duplicate','question1','question2'], axis=1, inplace=True)\n",
    "\n",
    "gc.collect()"
   ]
  },
  {
   "cell_type": "code",
   "execution_count": 6,
   "metadata": {},
   "outputs": [],
   "source": [
    "feature_name = list(data.columns) + w2v_columns + list(non_nlp_features.columns)"
   ]
  },
  {
   "cell_type": "code",
   "execution_count": 7,
   "metadata": {},
   "outputs": [],
   "source": [
    "# LGB params setting\n",
    "params = {\n",
    "    'task' : 'train',\n",
    "    'boosting_type' : 'gbdt',\n",
    "    'objective' : 'binary',\n",
    "    'metric' : {'binary_logloss'},\n",
    "    'learning_rate' : 0.02,\n",
    "    'feature_fraction' : 0.7,\n",
    "    'bagging_fraction': 0.9,\n",
    "    'bagging_freq': 100,\n",
    "    'num_leaves' : 255,\n",
    "    'max_depth': 12,\n",
    "    'min_data_in_leaf': 20,\n",
    "    'subsample': 0.7,\n",
    "    'colsample_bytree': 0.5,\n",
    "    'random_state': 15,\n",
    "    'verbose': 1,\n",
    "    'nthread': -1,\n",
    "}"
   ]
  },
  {
   "cell_type": "code",
   "execution_count": 8,
   "metadata": {},
   "outputs": [
    {
     "name": "stdout",
     "output_type": "stream",
     "text": [
      "MODEL: 0\n",
      "Training until validation scores don't improve for 100 rounds.\n",
      "[100]\tvalid_0's binary_logloss: 0.0495719\n",
      "[200]\tvalid_0's binary_logloss: 0.0310588\n",
      "[300]\tvalid_0's binary_logloss: 0.0286927\n",
      "[400]\tvalid_0's binary_logloss: 0.0286187\n",
      "Early stopping, best iteration is:\n",
      "[368]\tvalid_0's binary_logloss: 0.0284856\n",
      "MODEL: 1\n",
      "Training until validation scores don't improve for 100 rounds.\n",
      "[100]\tvalid_0's binary_logloss: 0.0481128\n",
      "[200]\tvalid_0's binary_logloss: 0.0294683\n",
      "[300]\tvalid_0's binary_logloss: 0.0270292\n",
      "[400]\tvalid_0's binary_logloss: 0.0269453\n",
      "Early stopping, best iteration is:\n",
      "[347]\tvalid_0's binary_logloss: 0.0268097\n",
      "MODEL: 2\n",
      "Training until validation scores don't improve for 100 rounds.\n",
      "[100]\tvalid_0's binary_logloss: 0.0473137\n",
      "[200]\tvalid_0's binary_logloss: 0.0286217\n",
      "[300]\tvalid_0's binary_logloss: 0.0261448\n",
      "[400]\tvalid_0's binary_logloss: 0.025978\n",
      "Early stopping, best iteration is:\n",
      "[350]\tvalid_0's binary_logloss: 0.0259385\n",
      "MODEL: 3\n",
      "Training until validation scores don't improve for 100 rounds.\n",
      "[100]\tvalid_0's binary_logloss: 0.0479788\n",
      "[200]\tvalid_0's binary_logloss: 0.0291229\n",
      "[300]\tvalid_0's binary_logloss: 0.0265889\n",
      "[400]\tvalid_0's binary_logloss: 0.0264048\n",
      "Early stopping, best iteration is:\n",
      "[358]\tvalid_0's binary_logloss: 0.026338\n",
      "MODEL: 4\n",
      "Training until validation scores don't improve for 100 rounds.\n",
      "[100]\tvalid_0's binary_logloss: 0.0473119\n",
      "[200]\tvalid_0's binary_logloss: 0.028311\n",
      "[300]\tvalid_0's binary_logloss: 0.0256358\n",
      "[400]\tvalid_0's binary_logloss: 0.0254629\n",
      "Early stopping, best iteration is:\n",
      "[350]\tvalid_0's binary_logloss: 0.0254119\n",
      "MODEL: 5\n",
      "Training until validation scores don't improve for 100 rounds.\n",
      "[100]\tvalid_0's binary_logloss: 0.0466381\n",
      "[200]\tvalid_0's binary_logloss: 0.0273245\n",
      "[300]\tvalid_0's binary_logloss: 0.0247843\n",
      "[400]\tvalid_0's binary_logloss: 0.024527\n",
      "Early stopping, best iteration is:\n",
      "[365]\tvalid_0's binary_logloss: 0.0244855\n",
      "MODEL: 6\n",
      "Training until validation scores don't improve for 100 rounds.\n",
      "[100]\tvalid_0's binary_logloss: 0.0493109\n",
      "[200]\tvalid_0's binary_logloss: 0.0307594\n",
      "[300]\tvalid_0's binary_logloss: 0.0284576\n",
      "[400]\tvalid_0's binary_logloss: 0.0285158\n",
      "Early stopping, best iteration is:\n",
      "[347]\tvalid_0's binary_logloss: 0.0283262\n",
      "MODEL: 7\n",
      "Training until validation scores don't improve for 100 rounds.\n",
      "[100]\tvalid_0's binary_logloss: 0.0475771\n",
      "[200]\tvalid_0's binary_logloss: 0.028474\n",
      "[300]\tvalid_0's binary_logloss: 0.0259145\n",
      "[400]\tvalid_0's binary_logloss: 0.0255763\n",
      "Early stopping, best iteration is:\n",
      "[374]\tvalid_0's binary_logloss: 0.0255264\n",
      "MODEL: 8\n",
      "Training until validation scores don't improve for 100 rounds.\n",
      "[100]\tvalid_0's binary_logloss: 0.04721\n",
      "[200]\tvalid_0's binary_logloss: 0.0282916\n",
      "[300]\tvalid_0's binary_logloss: 0.0256784\n",
      "[400]\tvalid_0's binary_logloss: 0.025403\n",
      "Early stopping, best iteration is:\n",
      "[360]\tvalid_0's binary_logloss: 0.0253634\n",
      "MODEL: 9\n",
      "Training until validation scores don't improve for 100 rounds.\n",
      "[100]\tvalid_0's binary_logloss: 0.047362\n",
      "[200]\tvalid_0's binary_logloss: 0.0285348\n",
      "[300]\tvalid_0's binary_logloss: 0.0259859\n",
      "[400]\tvalid_0's binary_logloss: 0.0256932\n",
      "Early stopping, best iteration is:\n",
      "[384]\tvalid_0's binary_logloss: 0.0256549\n"
     ]
    }
   ],
   "source": [
    "skf = StratifiedKFold(n_splits=10, shuffle=True, random_state=15)\n",
    "model_count = 0\n",
    "\n",
    "for idx_train, idx_val in skf.split(labels, labels):\n",
    "    \n",
    "    print(\"MODEL:\", model_count)\n",
    "    data_train = data.iloc[idx_train].values\n",
    "    labels_train = labels.iloc[idx_train].values\n",
    "    w2v_train = w2v_features[idx_train]\n",
    "    non_nlp_train = non_nlp_features.iloc[idx_train].values\n",
    "    data_train = np.concatenate([data_train,w2v_train,non_nlp_train], axis=1)\n",
    "    \n",
    "    data_val = data.iloc[idx_val].values\n",
    "    labels_val = labels.iloc[idx_val].values\n",
    "    w2v_val = w2v_features[idx_val]\n",
    "    non_nlp_val = non_nlp_features.iloc[idx_val].values\n",
    "    data_val = np.concatenate([data_val,w2v_val,non_nlp_val], axis=1)\n",
    "\n",
    "    # Packed dataset\n",
    "    lgb_train = lgb.Dataset(data_train, labels_train, feature_name=feature_name)\n",
    "    lgb_val = lgb.Dataset(data_val, labels_val, feature_name=feature_name)\n",
    "\n",
    "    \n",
    "    lgbm = lgb.train(params, lgb_train, num_boost_round = 100000, valid_sets = lgb_val,\n",
    "                     early_stopping_rounds = 100, verbose_eval = 100)\n",
    "    \n",
    "    del lgb_train, lgb_val; gc.collect()\n",
    "    \n",
    "    lgbm.save_model(os.path.join(dataset + \"-models\", 'best_model_{}'.format(model_count)))\n",
    "    \n",
    "    # Prediction\n",
    "    lgb_test = np.concatenate([data_test.values, w2v_features_test, non_nlp_features_test.values], axis=1)\n",
    "    preds = lgbm.predict(lgb_test, num_iteration=lgbm.best_iteration)\n",
    "    \n",
    "    submission = pd.DataFrame({\"id\": ids_test, \"is_duplicate\": preds.ravel()})\n",
    "    submission.to_csv(os.path.join(dataset + \"-predictions\", \"preds\" + str(model_count) + \".csv\"), index=False)\n",
    "\n",
    "    model_count += 1\n",
    "    "
   ]
  },
  {
   "cell_type": "code",
   "execution_count": 12,
   "metadata": {},
   "outputs": [
    {
     "data": {
      "image/png": "[encoded data removed]",
      "text/plain": [
       "<Figure size 432x288 with 1 Axes>"
      ]
     },
     "metadata": {},
     "output_type": "display_data"
    }
   ],
   "source": [
    "from lightgbm import plot_importance\n",
    "\n",
    "plot_importance(lgbm, max_num_features=20)\n",
    "plt.savefig('wiki_feature_importance')"
   ]
  },
  {
   "cell_type": "code",
   "execution_count": null,
   "metadata": {},
   "outputs": [],
   "source": []
  }
 ],
 "metadata": {
  "kernelspec": {
   "display_name": "Python 3",
   "language": "python",
   "name": "python3"
  },
  "language_info": {
   "codemirror_mode": {
    "name": "ipython",
    "version": 3
   },
   "file_extension": ".py",
   "mimetype": "text/x-python",
   "name": "python",
   "nbconvert_exporter": "python",
   "pygments_lexer": "ipython3",
   "version": "3.6.5"
  }
 },
 "nbformat": 4,
 "nbformat_minor": 2
}
